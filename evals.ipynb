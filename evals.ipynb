{
 "cells": [
  {
   "cell_type": "code",
   "execution_count": null,
   "metadata": {},
   "outputs": [],
   "source": [
    "import numpy as np\n",
    "import pandas as pd\n",
    "import seaborn as sns\n",
    "import matplotlib.pyplot as plt\n",
    "import json\n",
    "from pathlib import Path"
   ]
  },
  {
   "cell_type": "code",
   "execution_count": null,
   "metadata": {
    "scrolled": false
   },
   "outputs": [],
   "source": [
    "json_path = Path('results/results.json')\n",
    "data = json.loads(json_path.read_text())\n",
    "# Remove algorithm params for simplicity\n",
    "for x in data:\n",
    "    x['job']['algo_name'] = list(x['job']['algo'].keys())[0]\n",
    "    del x['job']['algo']\n",
    "df = pd.json_normalize(data, sep='_')\n",
    "df = df[(df.job_costs_sub == 1) & (df.job_costs_open==0) & (df.job_costs_extend==1)]\n",
    "df = df[df.output_measured_runtime.notna()]\n",
    "df = df[df.job_traceback]\n",
    "sns.set_style(\"darkgrid\")\n",
    "plot = sns.scatterplot(data=df, x='job_meta_length', y='output_measured_runtime', hue='job_algo_name', size='job_meta_error_rate', legend='full')\n",
    "sns.move_legend(plot, \"upper left\", bbox_to_anchor=(1, 1))\n",
    "plot.set(xscale='log', yscale='log')\n",
    "plt.savefig('plot.png', bbox_inches='tight')"
   ]
  }
 ],
 "metadata": {
  "kernelspec": {
   "display_name": "Python 3 (ipykernel)",
   "language": "python",
   "name": "python3"
  },
  "language_info": {
   "codemirror_mode": {
    "name": "ipython",
    "version": 3
   },
   "file_extension": ".py",
   "mimetype": "text/x-python",
   "name": "python",
   "nbconvert_exporter": "python",
   "pygments_lexer": "ipython3",
   "version": "3.10.8"
  },
  "name": "evals.ipynb"
 },
 "nbformat": 4,
 "nbformat_minor": 4
}
