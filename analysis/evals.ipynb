{
 "cells": [
  {
   "cell_type": "code",
   "execution_count": null,
   "metadata": {},
   "outputs": [],
   "source": [
    "import numpy as np\n",
    "import pandas as pd\n",
    "import seaborn as sns\n",
    "import matplotlib.pyplot as plt\n",
    "import json\n",
    "from pathlib import Path"
   ]
  },
  {
   "cell_type": "code",
   "execution_count": null,
   "metadata": {},
   "outputs": [],
   "source": [
    "sns.set_style(\"darkgrid\")"
   ]
  },
  {
   "cell_type": "code",
   "execution_count": null,
   "metadata": {},
   "outputs": [],
   "source": [
    "def read_results(path):\n",
    "    json_path = Path(path)\n",
    "    data = json.loads(json_path.read_text())\n",
    "\n",
    "    # Remove algorithm params for simplicity\n",
    "    for x in data:\n",
    "        x['job']['algo_name'] = list(x['job']['algo'].keys())[0]\n",
    "        x['job']['algo_full'] = str(x['job']['algo'])\n",
    "        del x['job']['algo']\n",
    "    df = pd.json_normalize(data, sep='_')\n",
    "\n",
    "    return df"
   ]
  },
  {
   "cell_type": "code",
   "execution_count": null,
   "metadata": {},
   "outputs": [],
   "source": [
    "df = read_results(\"../results/affine.json\")"
   ]
  },
  {
   "cell_type": "code",
   "execution_count": null,
   "metadata": {},
   "outputs": [],
   "source": [
    "df = df[(df.job_costs_sub == 1) & (df.job_costs_open == 1) & (df.job_costs_extend == 1)]\n",
    "df = df[df.output_measured_runtime.notna()]\n",
    "df = df[df.job_meta_error_model == 'Uniform']"
   ]
  },
  {
   "cell_type": "code",
   "execution_count": null,
   "metadata": {
    "scrolled": false
   },
   "outputs": [],
   "source": [
    "df_trace = df[df.job_traceback == True]\n",
    "plot = sns.scatterplot(\n",
    "    data=df_trace,\n",
    "    x='job_meta_length',\n",
    "    y='output_measured_runtime',\n",
    "    hue='job_algo_full',\n",
    "    style='job_algo_full',\n",
    "    size='job_meta_error_rate',\n",
    "    legend='full',\n",
    "    alpha=0.5\n",
    ")\n",
    "sns.move_legend(plot, \"upper left\", bbox_to_anchor=(1, 1))\n",
    "plot.set(xscale='log', yscale='log')\n",
    "plt.title(\"score and traceback\")\n",
    "plt.savefig('plot_trace.png', bbox_inches='tight')\n",
    "plt.show()"
   ]
  },
  {
   "cell_type": "code",
   "execution_count": null,
   "metadata": {},
   "outputs": [],
   "source": [
    "df_score = df[df.job_traceback == False]\n",
    "plot = sns.scatterplot(\n",
    "    data=df_score,\n",
    "    x='job_meta_length',\n",
    "    y='output_measured_runtime',\n",
    "    hue='job_algo_full',\n",
    "    style='job_algo_full',\n",
    "    size='job_meta_error_rate',\n",
    "    legend='full',\n",
    "    alpha=0.5\n",
    ")\n",
    "sns.move_legend(plot, \"upper left\", bbox_to_anchor=(1, 1))\n",
    "plot.set(xscale='log', yscale='log')\n",
    "plt.title(\"score only\")\n",
    "plt.savefig('plot_score.png', bbox_inches='tight')\n",
    "plt.show()"
   ]
  }
 ],
 "metadata": {
  "kernelspec": {
   "display_name": "Python 3",
   "language": "python",
   "name": "python3"
  },
  "language_info": {
   "codemirror_mode": {
    "name": "ipython",
    "version": 3
   },
   "file_extension": ".py",
   "mimetype": "text/x-python",
   "name": "python",
   "nbconvert_exporter": "python",
   "pygments_lexer": "ipython3",
   "version": "3.8.5"
  },
  "name": "evals.ipynb"
 },
 "nbformat": 4,
 "nbformat_minor": 4
}
